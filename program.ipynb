{
 "cells": [
  {
   "cell_type": "markdown",
   "metadata": {},
   "source": [
    "### Entrega n2 de Python\n",
    "**Ejercicio n10 club de hockey**\n",
    "\n",
    "\n"
   ]
  },
  {
   "cell_type": "markdown",
   "metadata": {},
   "source": [
    "#### > Disponemos de estas estructuras de datos con la informacion de los jugadores/as del club \n",
    "- Los nombres de todos.\n",
    "- Los goles de cada uno de ellos en el torneo.\n",
    "- Los goles evitados en el mismo.\n",
    "- Las asistencias realizadas.\n"
   ]
  },
  {
   "cell_type": "code",
   "execution_count": 8,
   "metadata": {},
   "outputs": [],
   "source": [
    "names = \"\"\"Agustin, Yanina, Andrés, Ariadna, Bautista, CAROLINA, CESAR, David, Diego, Dolores, DYLAN, ELIANA, Emanuel, Fabián, Noelia, Francsica', FEDERICO, Fernanda, GONZALO, Nancy\"\"\"\n",
    "\n",
    "goals = [0, 10, 4, 0, 5, 14, 0, 0, 7, 2, 1, 1, 1, 5, 6, 1, 1, 2, 0, 11]\n",
    "goals_avoided = [0, 2, 0, 0, 5, 2, 0, 0, 1, 2, 0, 5, 5, 0, 1, 0, 2, 3, 0, 0]\n",
    "assists = [0, 5, 1, 0, 5, 2, 0, 0, 1, 2, 1, 5, 5, 0, 1, 0, 2, 3, 1, 0]"
   ]
  },
  {
   "cell_type": "markdown",
   "metadata": {},
   "source": [
    "### El primer paso por hacer es poder juntar esta información para poder trabajar de alguna manera con ella: \n",
    "\n",
    "- El primer paso sera transformar la cadena con los nombres en una lista, donde tendra cada nombre \n",
    "como elemento para poder trabajar con ellos.\n"
   ]
  },
  {
   "cell_type": "code",
   "execution_count": 9,
   "metadata": {},
   "outputs": [],
   "source": [
    "names = names.replace(',','')\n",
    "names = names.split(' ')"
   ]
  },
  {
   "cell_type": "markdown",
   "metadata": {},
   "source": [
    "Al tener ya 4 estructuras podremos de alguna forma 'juntar' esta informacion , importando el modulo que nos permitira hacerlo y luego invocando la función correspondiente .\n",
    "- lo que hace esta funcion es juntar en una lista de tuplas toda la informacion necesaria.\n",
    "- (nombre, goles, goles evitados, asistencias) "
   ]
  },
  {
   "cell_type": "code",
   "execution_count": 10,
   "metadata": {},
   "outputs": [],
   "source": [
    "import modulos \n",
    "\n",
    "estructura = modulos.generar_estructura(names,goals,goals_avoided,assists)"
   ]
  },
  {
   "cell_type": "markdown",
   "metadata": {},
   "source": [
    "Una vez ya armada la estructura podremos empezar a realizar lo pedido : \n",
    "\n",
    "2. Conocer el nombre y la cantidad de goles del goleador o goleadora.\n",
    "- En este inciso lo que hacemos es llamar a la funcion goleador que nos devolvera en una tupla la informacion goleador y la guardaremos en una variable,  para que al momento de necesitarla podamos disponer de ella  mas facil. "
   ]
  },
  {
   "cell_type": "code",
   "execution_count": 11,
   "metadata": {},
   "outputs": [
    {
     "name": "stdout",
     "output_type": "stream",
     "text": [
      "el goldeador o goleadora es : CAROLINA , con : 14 goles.\n"
     ]
    }
   ],
   "source": [
    "persona = modulos.goleador(estructura)\n",
    "\n",
    "print(f'el goldeador o goleadora es : {persona[0]} , con : {persona[1]} goles.')"
   ]
  },
  {
   "cell_type": "markdown",
   "metadata": {},
   "source": [
    "3. Conocer el nombre del jugador o jugadora más influyente\n",
    "- En este caso como en el anterior guardaremos en una variable una tupla con la informacion de el jugador/a mas influyente para poder usarla en cualquier momento. "
   ]
  },
  {
   "cell_type": "code",
   "execution_count": 12,
   "metadata": {},
   "outputs": [
    {
     "name": "stdout",
     "output_type": "stream",
     "text": [
      "el nombre del jugador o jugadora mas influyente es : CAROLINA\n"
     ]
    }
   ],
   "source": [
    "influyente = modulos.mas_influyente(estructura)\n",
    "\n",
    "print(f'el nombre del jugador o jugadora mas influyente es : {influyente[0]}')"
   ]
  },
  {
   "cell_type": "markdown",
   "metadata": {},
   "source": [
    "4. Conocer el promedio de goles por partido del equipo en general. Dato: Se jugaron\n",
    "25 partidos en la temporada.\n",
    "\n",
    "- Al tener en un modulo una funcion que nos retorne el promedio de goles por partidos del equipo, lo que hacemos es llamarlo en el **print** ya que retorna un valor entero y puede ser escrito en el mismo."
   ]
  },
  {
   "cell_type": "code",
   "execution_count": 13,
   "metadata": {},
   "outputs": [
    {
     "name": "stdout",
     "output_type": "stream",
     "text": [
      " el promedio de goles del equipo en los 25 partidos es de : 2.84\n"
     ]
    }
   ],
   "source": [
    "\n",
    "print(f' el promedio de goles del equipo en los 25 partidos es de : {modulos.goles_prom_partido(estructura, 25)}')\n"
   ]
  },
  {
   "cell_type": "markdown",
   "metadata": {},
   "source": [
    "5. Conocer el promedio de goles por partido del goleador o goleadora. Dato: Se\n",
    "jugaron 25 partidos en la temporada.\n",
    "\n",
    "- Al tener la información del goleador/ra , llamamos a la funcion y nos retornara el promedio.\n"
   ]
  },
  {
   "cell_type": "code",
   "execution_count": 14,
   "metadata": {},
   "outputs": [
    {
     "name": "stdout",
     "output_type": "stream",
     "text": [
      "elpromedio de goles por partido -25- del goldeador o goleadora es : 0.56\n"
     ]
    }
   ],
   "source": [
    "\n",
    "print(f'elpromedio de goles por partido -25- del goldeador o goleadora es : {modulos.prom_goles_persona(persona[1],25)}')"
   ]
  }
 ],
 "metadata": {
  "kernelspec": {
   "display_name": "venv",
   "language": "python",
   "name": "python3"
  },
  "language_info": {
   "codemirror_mode": {
    "name": "ipython",
    "version": 3
   },
   "file_extension": ".py",
   "mimetype": "text/x-python",
   "name": "python",
   "nbconvert_exporter": "python",
   "pygments_lexer": "ipython3",
   "version": "3.11.7"
  }
 },
 "nbformat": 4,
 "nbformat_minor": 2
}
